{
  "cells": [
    {
      "cell_type": "markdown",
      "metadata": {
        "id": "oe9vkEvFABbN"
      },
      "source": [
        "# YOLOv8 training on custom dataset\n",
        "\n",
        "Notebook made based on [YOLOv8 Notebook](https://colab.research.google.com/github/roboflow-ai/notebooks/blob/main/notebooks/train-yolov8-object-detection-on-custom-dataset.ipynb) by Roboflow.\n"
      ]
    },
    {
      "cell_type": "markdown",
      "metadata": {
        "id": "FyRdDYkqAKN4"
      },
      "source": [
        "## Before start\n"
      ]
    },
    {
      "cell_type": "code",
      "execution_count": 1,
      "metadata": {
        "colab": {
          "base_uri": "https://localhost:8080/"
        },
        "id": "Y8cDtxLIBHgQ",
        "outputId": "da6b1fb7-f1f6-469e-da61-4a001a2e6faf"
      },
      "outputs": [
        {
          "output_type": "stream",
          "name": "stdout",
          "text": [
            "Sun Jan 14 13:38:08 2024       \n",
            "+---------------------------------------------------------------------------------------+\n",
            "| NVIDIA-SMI 535.104.05             Driver Version: 535.104.05   CUDA Version: 12.2     |\n",
            "|-----------------------------------------+----------------------+----------------------+\n",
            "| GPU  Name                 Persistence-M | Bus-Id        Disp.A | Volatile Uncorr. ECC |\n",
            "| Fan  Temp   Perf          Pwr:Usage/Cap |         Memory-Usage | GPU-Util  Compute M. |\n",
            "|                                         |                      |               MIG M. |\n",
            "|=========================================+======================+======================|\n",
            "|   0  Tesla T4                       Off | 00000000:00:04.0 Off |                    0 |\n",
            "| N/A   64C    P8              13W /  70W |      0MiB / 15360MiB |      0%      Default |\n",
            "|                                         |                      |                  N/A |\n",
            "+-----------------------------------------+----------------------+----------------------+\n",
            "                                                                                         \n",
            "+---------------------------------------------------------------------------------------+\n",
            "| Processes:                                                                            |\n",
            "|  GPU   GI   CI        PID   Type   Process name                            GPU Memory |\n",
            "|        ID   ID                                                             Usage      |\n",
            "|=======================================================================================|\n",
            "|  No running processes found                                                           |\n",
            "+---------------------------------------------------------------------------------------+\n"
          ]
        }
      ],
      "source": [
        "!nvidia-smi"
      ]
    },
    {
      "cell_type": "code",
      "execution_count": 2,
      "metadata": {
        "colab": {
          "base_uri": "https://localhost:8080/"
        },
        "id": "CjpPg4mGKc1v",
        "outputId": "116bedc1-8065-4d18-b0bc-b81847a29187"
      },
      "outputs": [
        {
          "output_type": "stream",
          "name": "stdout",
          "text": [
            "/content\n"
          ]
        }
      ],
      "source": [
        "import os\n",
        "HOME = os.getcwd()\n",
        "print(HOME)"
      ]
    },
    {
      "cell_type": "markdown",
      "metadata": {
        "id": "3C3EO_2zNChu"
      },
      "source": [
        "## Install and import YOLOv8\n"
      ]
    },
    {
      "cell_type": "code",
      "execution_count": 3,
      "metadata": {
        "colab": {
          "base_uri": "https://localhost:8080/"
        },
        "id": "tdSMcABDNKW-",
        "outputId": "393fa169-4377-4bb9-d4d8-fe6a0ddffaf6"
      },
      "outputs": [
        {
          "output_type": "stream",
          "name": "stdout",
          "text": [
            "Collecting ultralytics==8.0.196\n",
            "  Downloading ultralytics-8.0.196-py3-none-any.whl (631 kB)\n",
            "\u001b[2K     \u001b[90m━━━━━━━━━━━━━━━━━━━━━━━━━━━━━━━━━━━━━━━━\u001b[0m \u001b[32m631.1/631.1 kB\u001b[0m \u001b[31m6.6 MB/s\u001b[0m eta \u001b[36m0:00:00\u001b[0m\n",
            "\u001b[?25hRequirement already satisfied: matplotlib>=3.3.0 in /usr/local/lib/python3.10/dist-packages (from ultralytics==8.0.196) (3.7.1)\n",
            "Requirement already satisfied: numpy>=1.22.2 in /usr/local/lib/python3.10/dist-packages (from ultralytics==8.0.196) (1.23.5)\n",
            "Requirement already satisfied: opencv-python>=4.6.0 in /usr/local/lib/python3.10/dist-packages (from ultralytics==8.0.196) (4.8.0.76)\n",
            "Requirement already satisfied: pillow>=7.1.2 in /usr/local/lib/python3.10/dist-packages (from ultralytics==8.0.196) (9.4.0)\n",
            "Requirement already satisfied: pyyaml>=5.3.1 in /usr/local/lib/python3.10/dist-packages (from ultralytics==8.0.196) (6.0.1)\n",
            "Requirement already satisfied: requests>=2.23.0 in /usr/local/lib/python3.10/dist-packages (from ultralytics==8.0.196) (2.31.0)\n",
            "Requirement already satisfied: scipy>=1.4.1 in /usr/local/lib/python3.10/dist-packages (from ultralytics==8.0.196) (1.11.4)\n",
            "Requirement already satisfied: torch>=1.8.0 in /usr/local/lib/python3.10/dist-packages (from ultralytics==8.0.196) (2.1.0+cu121)\n",
            "Requirement already satisfied: torchvision>=0.9.0 in /usr/local/lib/python3.10/dist-packages (from ultralytics==8.0.196) (0.16.0+cu121)\n",
            "Requirement already satisfied: tqdm>=4.64.0 in /usr/local/lib/python3.10/dist-packages (from ultralytics==8.0.196) (4.66.1)\n",
            "Requirement already satisfied: pandas>=1.1.4 in /usr/local/lib/python3.10/dist-packages (from ultralytics==8.0.196) (1.5.3)\n",
            "Requirement already satisfied: seaborn>=0.11.0 in /usr/local/lib/python3.10/dist-packages (from ultralytics==8.0.196) (0.12.2)\n",
            "Requirement already satisfied: psutil in /usr/local/lib/python3.10/dist-packages (from ultralytics==8.0.196) (5.9.5)\n",
            "Requirement already satisfied: py-cpuinfo in /usr/local/lib/python3.10/dist-packages (from ultralytics==8.0.196) (9.0.0)\n",
            "Collecting thop>=0.1.1 (from ultralytics==8.0.196)\n",
            "  Downloading thop-0.1.1.post2209072238-py3-none-any.whl (15 kB)\n",
            "Requirement already satisfied: contourpy>=1.0.1 in /usr/local/lib/python3.10/dist-packages (from matplotlib>=3.3.0->ultralytics==8.0.196) (1.2.0)\n",
            "Requirement already satisfied: cycler>=0.10 in /usr/local/lib/python3.10/dist-packages (from matplotlib>=3.3.0->ultralytics==8.0.196) (0.12.1)\n",
            "Requirement already satisfied: fonttools>=4.22.0 in /usr/local/lib/python3.10/dist-packages (from matplotlib>=3.3.0->ultralytics==8.0.196) (4.47.0)\n",
            "Requirement already satisfied: kiwisolver>=1.0.1 in /usr/local/lib/python3.10/dist-packages (from matplotlib>=3.3.0->ultralytics==8.0.196) (1.4.5)\n",
            "Requirement already satisfied: packaging>=20.0 in /usr/local/lib/python3.10/dist-packages (from matplotlib>=3.3.0->ultralytics==8.0.196) (23.2)\n",
            "Requirement already satisfied: pyparsing>=2.3.1 in /usr/local/lib/python3.10/dist-packages (from matplotlib>=3.3.0->ultralytics==8.0.196) (3.1.1)\n",
            "Requirement already satisfied: python-dateutil>=2.7 in /usr/local/lib/python3.10/dist-packages (from matplotlib>=3.3.0->ultralytics==8.0.196) (2.8.2)\n",
            "Requirement already satisfied: pytz>=2020.1 in /usr/local/lib/python3.10/dist-packages (from pandas>=1.1.4->ultralytics==8.0.196) (2023.3.post1)\n",
            "Requirement already satisfied: charset-normalizer<4,>=2 in /usr/local/lib/python3.10/dist-packages (from requests>=2.23.0->ultralytics==8.0.196) (3.3.2)\n",
            "Requirement already satisfied: idna<4,>=2.5 in /usr/local/lib/python3.10/dist-packages (from requests>=2.23.0->ultralytics==8.0.196) (3.6)\n",
            "Requirement already satisfied: urllib3<3,>=1.21.1 in /usr/local/lib/python3.10/dist-packages (from requests>=2.23.0->ultralytics==8.0.196) (2.0.7)\n",
            "Requirement already satisfied: certifi>=2017.4.17 in /usr/local/lib/python3.10/dist-packages (from requests>=2.23.0->ultralytics==8.0.196) (2023.11.17)\n",
            "Requirement already satisfied: filelock in /usr/local/lib/python3.10/dist-packages (from torch>=1.8.0->ultralytics==8.0.196) (3.13.1)\n",
            "Requirement already satisfied: typing-extensions in /usr/local/lib/python3.10/dist-packages (from torch>=1.8.0->ultralytics==8.0.196) (4.5.0)\n",
            "Requirement already satisfied: sympy in /usr/local/lib/python3.10/dist-packages (from torch>=1.8.0->ultralytics==8.0.196) (1.12)\n",
            "Requirement already satisfied: networkx in /usr/local/lib/python3.10/dist-packages (from torch>=1.8.0->ultralytics==8.0.196) (3.2.1)\n",
            "Requirement already satisfied: jinja2 in /usr/local/lib/python3.10/dist-packages (from torch>=1.8.0->ultralytics==8.0.196) (3.1.2)\n",
            "Requirement already satisfied: fsspec in /usr/local/lib/python3.10/dist-packages (from torch>=1.8.0->ultralytics==8.0.196) (2023.6.0)\n",
            "Requirement already satisfied: triton==2.1.0 in /usr/local/lib/python3.10/dist-packages (from torch>=1.8.0->ultralytics==8.0.196) (2.1.0)\n",
            "Requirement already satisfied: six>=1.5 in /usr/local/lib/python3.10/dist-packages (from python-dateutil>=2.7->matplotlib>=3.3.0->ultralytics==8.0.196) (1.16.0)\n",
            "Requirement already satisfied: MarkupSafe>=2.0 in /usr/local/lib/python3.10/dist-packages (from jinja2->torch>=1.8.0->ultralytics==8.0.196) (2.1.3)\n",
            "Requirement already satisfied: mpmath>=0.19 in /usr/local/lib/python3.10/dist-packages (from sympy->torch>=1.8.0->ultralytics==8.0.196) (1.3.0)\n",
            "Installing collected packages: thop, ultralytics\n",
            "Successfully installed thop-0.1.1.post2209072238 ultralytics-8.0.196\n"
          ]
        }
      ],
      "source": [
        "!pip install ultralytics==8.0.196"
      ]
    },
    {
      "cell_type": "code",
      "source": [
        "from ultralytics import YOLO"
      ],
      "metadata": {
        "id": "s5hgnDbhxjof"
      },
      "execution_count": 4,
      "outputs": []
    },
    {
      "cell_type": "markdown",
      "source": [
        "## Install roboflow, download dataset"
      ],
      "metadata": {
        "id": "GfluuKBLwVei"
      }
    },
    {
      "cell_type": "code",
      "execution_count": 6,
      "metadata": {
        "colab": {
          "base_uri": "https://localhost:8080/"
        },
        "id": "BSd93ZJzZZKt",
        "outputId": "94ce9ec1-d8bf-47ed-e9a0-f7c9ccde7fc0"
      },
      "outputs": [
        {
          "output_type": "stream",
          "name": "stdout",
          "text": [
            "mkdir: cannot create directory ‘/content/datasets’: File exists\n",
            "/content/datasets\n",
            "Requirement already satisfied: roboflow in /usr/local/lib/python3.10/dist-packages (1.1.16)\n",
            "Requirement already satisfied: certifi==2023.7.22 in /usr/local/lib/python3.10/dist-packages (from roboflow) (2023.7.22)\n",
            "Requirement already satisfied: chardet==4.0.0 in /usr/local/lib/python3.10/dist-packages (from roboflow) (4.0.0)\n",
            "Requirement already satisfied: cycler==0.10.0 in /usr/local/lib/python3.10/dist-packages (from roboflow) (0.10.0)\n",
            "Requirement already satisfied: idna==2.10 in /usr/local/lib/python3.10/dist-packages (from roboflow) (2.10)\n",
            "Requirement already satisfied: kiwisolver>=1.3.1 in /usr/local/lib/python3.10/dist-packages (from roboflow) (1.4.5)\n",
            "Requirement already satisfied: matplotlib in /usr/local/lib/python3.10/dist-packages (from roboflow) (3.7.1)\n",
            "Requirement already satisfied: numpy>=1.18.5 in /usr/local/lib/python3.10/dist-packages (from roboflow) (1.23.5)\n",
            "Requirement already satisfied: opencv-python-headless==4.8.0.74 in /usr/local/lib/python3.10/dist-packages (from roboflow) (4.8.0.74)\n",
            "Requirement already satisfied: Pillow>=7.1.2 in /usr/local/lib/python3.10/dist-packages (from roboflow) (9.4.0)\n",
            "Requirement already satisfied: python-dateutil in /usr/local/lib/python3.10/dist-packages (from roboflow) (2.8.2)\n",
            "Requirement already satisfied: python-dotenv in /usr/local/lib/python3.10/dist-packages (from roboflow) (1.0.0)\n",
            "Requirement already satisfied: requests in /usr/local/lib/python3.10/dist-packages (from roboflow) (2.31.0)\n",
            "Requirement already satisfied: six in /usr/local/lib/python3.10/dist-packages (from roboflow) (1.16.0)\n",
            "Requirement already satisfied: supervision in /usr/local/lib/python3.10/dist-packages (from roboflow) (0.17.1)\n",
            "Requirement already satisfied: urllib3>=1.26.6 in /usr/local/lib/python3.10/dist-packages (from roboflow) (2.0.7)\n",
            "Requirement already satisfied: tqdm>=4.41.0 in /usr/local/lib/python3.10/dist-packages (from roboflow) (4.66.1)\n",
            "Requirement already satisfied: PyYAML>=5.3.1 in /usr/local/lib/python3.10/dist-packages (from roboflow) (6.0.1)\n",
            "Requirement already satisfied: requests-toolbelt in /usr/local/lib/python3.10/dist-packages (from roboflow) (1.0.0)\n",
            "Requirement already satisfied: python-magic in /usr/local/lib/python3.10/dist-packages (from roboflow) (0.4.27)\n",
            "Requirement already satisfied: contourpy>=1.0.1 in /usr/local/lib/python3.10/dist-packages (from matplotlib->roboflow) (1.2.0)\n",
            "Requirement already satisfied: fonttools>=4.22.0 in /usr/local/lib/python3.10/dist-packages (from matplotlib->roboflow) (4.47.0)\n",
            "Requirement already satisfied: packaging>=20.0 in /usr/local/lib/python3.10/dist-packages (from matplotlib->roboflow) (23.2)\n",
            "Requirement already satisfied: pyparsing>=2.3.1 in /usr/local/lib/python3.10/dist-packages (from matplotlib->roboflow) (3.1.1)\n",
            "Requirement already satisfied: charset-normalizer<4,>=2 in /usr/local/lib/python3.10/dist-packages (from requests->roboflow) (3.3.2)\n",
            "Requirement already satisfied: scipy>=1.9.0 in /usr/local/lib/python3.10/dist-packages (from supervision->roboflow) (1.11.4)\n",
            "loading Roboflow workspace...\n",
            "loading Roboflow project...\n"
          ]
        },
        {
          "output_type": "stream",
          "name": "stderr",
          "text": [
            "Downloading Dataset Version Zip in animals-2 to yolov8:: 100%|██████████| 8843/8843 [00:01<00:00, 4765.32it/s] "
          ]
        },
        {
          "output_type": "stream",
          "name": "stdout",
          "text": [
            "\n"
          ]
        },
        {
          "output_type": "stream",
          "name": "stderr",
          "text": [
            "\n",
            "Extracting Dataset Version Zip to animals-2 in yolov8:: 100%|██████████| 2012/2012 [00:00<00:00, 7280.81it/s]\n"
          ]
        }
      ],
      "source": [
        "!mkdir {HOME}/datasets\n",
        "%cd {HOME}/datasets\n",
        "\n",
        "!pip install roboflow\n",
        "\n",
        "from roboflow import Roboflow\n",
        "rf = Roboflow(api_key=\"API_KEY\")\n",
        "project = rf.workspace(\"roboflow-100\").project(\"animals-ij5d2\")\n",
        "dataset = project.version(2).download(\"yolov8\")"
      ]
    },
    {
      "cell_type": "markdown",
      "metadata": {
        "id": "YUjFBKKqXa-u"
      },
      "source": [
        "## Custom Training"
      ]
    },
    {
      "cell_type": "code",
      "execution_count": 7,
      "metadata": {
        "colab": {
          "base_uri": "https://localhost:8080/"
        },
        "id": "D2YkphuiaE7_",
        "outputId": "c3a91085-565e-40f8-cc55-d7f96c565d14"
      },
      "outputs": [
        {
          "output_type": "stream",
          "name": "stdout",
          "text": [
            "/content\n",
            "Downloading https://github.com/ultralytics/assets/releases/download/v0.0.0/yolov8s.pt to 'yolov8s.pt'...\n",
            "100% 21.5M/21.5M [00:00<00:00, 268MB/s]\n",
            "New https://pypi.org/project/ultralytics/8.1.1 available 😃 Update with 'pip install -U ultralytics'\n",
            "Ultralytics YOLOv8.0.196 🚀 Python-3.10.12 torch-2.1.0+cu121 CUDA:0 (Tesla T4, 15102MiB)\n",
            "\u001b[34m\u001b[1mengine/trainer: \u001b[0mtask=detect, mode=train, model=yolov8s.pt, data=/content/datasets/animals-2/data.yaml, epochs=1, patience=50, batch=8, imgsz=640, save=True, save_period=-1, cache=False, device=None, workers=8, project=None, name=None, exist_ok=False, pretrained=True, optimizer=auto, verbose=True, seed=0, deterministic=True, single_cls=False, rect=False, cos_lr=False, close_mosaic=10, resume=False, amp=True, fraction=1.0, profile=False, freeze=None, overlap_mask=True, mask_ratio=4, dropout=0.0, val=True, split=val, save_json=False, save_hybrid=False, conf=None, iou=0.7, max_det=300, half=False, dnn=False, plots=True, source=None, show=False, save_txt=False, save_conf=False, save_crop=False, show_labels=True, show_conf=True, vid_stride=1, stream_buffer=False, line_width=None, visualize=False, augment=False, agnostic_nms=False, classes=None, retina_masks=False, boxes=True, format=torchscript, keras=False, optimize=False, int8=False, dynamic=False, simplify=False, opset=None, workspace=4, nms=False, lr0=0.01, lrf=0.01, momentum=0.937, weight_decay=0.0005, warmup_epochs=3.0, warmup_momentum=0.8, warmup_bias_lr=0.1, box=7.5, cls=0.5, dfl=1.5, pose=12.0, kobj=1.0, label_smoothing=0.0, nbs=64, hsv_h=0.015, hsv_s=0.7, hsv_v=0.4, degrees=0.0, translate=0.1, scale=0.5, shear=0.0, perspective=0.0, flipud=0.0, fliplr=0.5, mosaic=1.0, mixup=0.0, copy_paste=0.0, cfg=None, tracker=botsort.yaml, save_dir=runs/detect/train\n",
            "Downloading https://ultralytics.com/assets/Arial.ttf to '/root/.config/Ultralytics/Arial.ttf'...\n",
            "100% 755k/755k [00:00<00:00, 121MB/s]\n",
            "2024-01-14 13:39:30.599723: E external/local_xla/xla/stream_executor/cuda/cuda_dnn.cc:9261] Unable to register cuDNN factory: Attempting to register factory for plugin cuDNN when one has already been registered\n",
            "2024-01-14 13:39:30.599777: E external/local_xla/xla/stream_executor/cuda/cuda_fft.cc:607] Unable to register cuFFT factory: Attempting to register factory for plugin cuFFT when one has already been registered\n",
            "2024-01-14 13:39:30.601727: E external/local_xla/xla/stream_executor/cuda/cuda_blas.cc:1515] Unable to register cuBLAS factory: Attempting to register factory for plugin cuBLAS when one has already been registered\n",
            "Overriding model.yaml nc=80 with nc=10\n",
            "\n",
            "                   from  n    params  module                                       arguments                     \n",
            "  0                  -1  1       928  ultralytics.nn.modules.conv.Conv             [3, 32, 3, 2]                 \n",
            "  1                  -1  1     18560  ultralytics.nn.modules.conv.Conv             [32, 64, 3, 2]                \n",
            "  2                  -1  1     29056  ultralytics.nn.modules.block.C2f             [64, 64, 1, True]             \n",
            "  3                  -1  1     73984  ultralytics.nn.modules.conv.Conv             [64, 128, 3, 2]               \n",
            "  4                  -1  2    197632  ultralytics.nn.modules.block.C2f             [128, 128, 2, True]           \n",
            "  5                  -1  1    295424  ultralytics.nn.modules.conv.Conv             [128, 256, 3, 2]              \n",
            "  6                  -1  2    788480  ultralytics.nn.modules.block.C2f             [256, 256, 2, True]           \n",
            "  7                  -1  1   1180672  ultralytics.nn.modules.conv.Conv             [256, 512, 3, 2]              \n",
            "  8                  -1  1   1838080  ultralytics.nn.modules.block.C2f             [512, 512, 1, True]           \n",
            "  9                  -1  1    656896  ultralytics.nn.modules.block.SPPF            [512, 512, 5]                 \n",
            " 10                  -1  1         0  torch.nn.modules.upsampling.Upsample         [None, 2, 'nearest']          \n",
            " 11             [-1, 6]  1         0  ultralytics.nn.modules.conv.Concat           [1]                           \n",
            " 12                  -1  1    591360  ultralytics.nn.modules.block.C2f             [768, 256, 1]                 \n",
            " 13                  -1  1         0  torch.nn.modules.upsampling.Upsample         [None, 2, 'nearest']          \n",
            " 14             [-1, 4]  1         0  ultralytics.nn.modules.conv.Concat           [1]                           \n",
            " 15                  -1  1    148224  ultralytics.nn.modules.block.C2f             [384, 128, 1]                 \n",
            " 16                  -1  1    147712  ultralytics.nn.modules.conv.Conv             [128, 128, 3, 2]              \n",
            " 17            [-1, 12]  1         0  ultralytics.nn.modules.conv.Concat           [1]                           \n",
            " 18                  -1  1    493056  ultralytics.nn.modules.block.C2f             [384, 256, 1]                 \n",
            " 19                  -1  1    590336  ultralytics.nn.modules.conv.Conv             [256, 256, 3, 2]              \n",
            " 20             [-1, 9]  1         0  ultralytics.nn.modules.conv.Concat           [1]                           \n",
            " 21                  -1  1   1969152  ultralytics.nn.modules.block.C2f             [768, 512, 1]                 \n",
            " 22        [15, 18, 21]  1   2119918  ultralytics.nn.modules.head.Detect           [10, [128, 256, 512]]         \n",
            "Model summary: 225 layers, 11139470 parameters, 11139454 gradients, 28.7 GFLOPs\n",
            "\n",
            "Transferred 349/355 items from pretrained weights\n",
            "\u001b[34m\u001b[1mTensorBoard: \u001b[0mStart with 'tensorboard --logdir runs/detect/train', view at http://localhost:6006/\n",
            "Freezing layer 'model.22.dfl.conv.weight'\n",
            "\u001b[34m\u001b[1mAMP: \u001b[0mrunning Automatic Mixed Precision (AMP) checks with YOLOv8n...\n",
            "Downloading https://github.com/ultralytics/assets/releases/download/v0.0.0/yolov8n.pt to 'yolov8n.pt'...\n",
            "100% 6.23M/6.23M [00:00<00:00, 292MB/s]\n",
            "WARNING ⚠️ NMS time limit 0.550s exceeded\n",
            "\u001b[34m\u001b[1mAMP: \u001b[0mchecks passed ✅\n",
            "\u001b[34m\u001b[1mtrain: \u001b[0mScanning /content/datasets/animals-2/train/labels... 700 images, 0 backgrounds, 0 corrupt: 100% 700/700 [00:00<00:00, 2057.55it/s]\n",
            "\u001b[34m\u001b[1mtrain: \u001b[0mNew cache created: /content/datasets/animals-2/train/labels.cache\n",
            "\u001b[34m\u001b[1malbumentations: \u001b[0mBlur(p=0.01, blur_limit=(3, 7)), MedianBlur(p=0.01, blur_limit=(3, 7)), ToGray(p=0.01), CLAHE(p=0.01, clip_limit=(1, 4.0), tile_grid_size=(8, 8))\n",
            "\u001b[34m\u001b[1mval: \u001b[0mScanning /content/datasets/animals-2/valid/labels... 200 images, 0 backgrounds, 0 corrupt: 100% 200/200 [00:00<00:00, 1311.34it/s]\n",
            "\u001b[34m\u001b[1mval: \u001b[0mNew cache created: /content/datasets/animals-2/valid/labels.cache\n",
            "Plotting labels to runs/detect/train/labels.jpg... \n",
            "\u001b[34m\u001b[1moptimizer:\u001b[0m 'optimizer=auto' found, ignoring 'lr0=0.01' and 'momentum=0.937' and determining best 'optimizer', 'lr0' and 'momentum' automatically... \n",
            "\u001b[34m\u001b[1moptimizer:\u001b[0m AdamW(lr=0.000714, momentum=0.9) with parameter groups 57 weight(decay=0.0), 64 weight(decay=0.0005), 63 bias(decay=0.0)\n",
            "Image sizes 640 train, 640 val\n",
            "Using 2 dataloader workers\n",
            "Logging results to \u001b[1mruns/detect/train\u001b[0m\n",
            "Starting training for 1 epochs...\n",
            "\n",
            "      Epoch    GPU_mem   box_loss   cls_loss   dfl_loss  Instances       Size\n",
            "        1/1      2.29G      1.022      3.286      1.441         13        640: 100% 88/88 [00:19<00:00,  4.59it/s]\n",
            "                 Class     Images  Instances      Box(P          R      mAP50  mAP50-95): 100% 13/13 [00:08<00:00,  1.48it/s]\n",
            "                   all        200        351      0.433      0.522      0.467      0.311\n",
            "\n",
            "1 epochs completed in 0.010 hours.\n",
            "Optimizer stripped from runs/detect/train/weights/last.pt, 22.5MB\n",
            "Optimizer stripped from runs/detect/train/weights/best.pt, 22.5MB\n",
            "\n",
            "Validating runs/detect/train/weights/best.pt...\n",
            "Ultralytics YOLOv8.0.196 🚀 Python-3.10.12 torch-2.1.0+cu121 CUDA:0 (Tesla T4, 15102MiB)\n",
            "Model summary (fused): 168 layers, 11129454 parameters, 0 gradients, 28.5 GFLOPs\n",
            "                 Class     Images  Instances      Box(P          R      mAP50  mAP50-95): 100% 13/13 [00:04<00:00,  2.62it/s]\n",
            "                   all        200        351      0.435      0.521      0.466      0.311\n",
            "                   cat        200         18      0.575      0.376      0.332      0.245\n",
            "               chicken        200         51       0.52      0.392      0.383       0.24\n",
            "                   cow        200         51      0.251      0.608      0.448      0.279\n",
            "                   dog        200         26      0.263        0.5      0.326      0.238\n",
            "                   fox        200         21      0.285      0.143      0.203      0.141\n",
            "                  goat        200         32      0.255      0.594      0.323      0.229\n",
            "                 horse        200         44      0.438      0.818      0.778      0.578\n",
            "                person        200         52      0.678      0.904      0.857      0.556\n",
            "                racoon        200         35      0.453      0.629      0.512       0.33\n",
            "                 skunk        200         21      0.636      0.251      0.496      0.276\n",
            "Speed: 0.3ms preprocess, 4.5ms inference, 0.0ms loss, 4.7ms postprocess per image\n",
            "Results saved to \u001b[1mruns/detect/train\u001b[0m\n",
            "💡 Learn more at https://docs.ultralytics.com/modes/train\n"
          ]
        }
      ],
      "source": [
        "%cd {HOME}\n",
        "\n",
        "!yolo task=detect mode=train model=yolov8s.pt data={dataset.location}/data.yaml epochs=1 batch=8"
      ]
    },
    {
      "cell_type": "markdown",
      "source": [
        "## Install and import supervision and numpy"
      ],
      "metadata": {
        "id": "gHowQb13iyc8"
      }
    },
    {
      "cell_type": "code",
      "source": [
        "!pip install -q supervision==0.13.0\n",
        "!pip install numpy"
      ],
      "metadata": {
        "id": "TGRdzbdMi0fA",
        "outputId": "77c415f6-f3f0-42ae-e82f-f993ee8772d8",
        "colab": {
          "base_uri": "https://localhost:8080/"
        }
      },
      "execution_count": 8,
      "outputs": [
        {
          "output_type": "stream",
          "name": "stdout",
          "text": [
            "\u001b[?25l     \u001b[90m━━━━━━━━━━━━━━━━━━━━━━━━━━━━━━━━━━━━━━━━\u001b[0m \u001b[32m0.0/59.3 kB\u001b[0m \u001b[31m?\u001b[0m eta \u001b[36m-:--:--\u001b[0m\r\u001b[2K     \u001b[91m━━━━━━━━━━━━━━━━━━━━━━━━━━━━━━━━━━\u001b[0m\u001b[91m╸\u001b[0m\u001b[90m━━━━━\u001b[0m \u001b[32m51.2/59.3 kB\u001b[0m \u001b[31m1.8 MB/s\u001b[0m eta \u001b[36m0:00:01\u001b[0m\r\u001b[2K     \u001b[90m━━━━━━━━━━━━━━━━━━━━━━━━━━━━━━━━━━━━━━━━\u001b[0m \u001b[32m59.3/59.3 kB\u001b[0m \u001b[31m1.3 MB/s\u001b[0m eta \u001b[36m0:00:00\u001b[0m\n",
            "\u001b[?25hRequirement already satisfied: numpy in /usr/local/lib/python3.10/dist-packages (1.23.5)\n"
          ]
        }
      ]
    },
    {
      "cell_type": "code",
      "source": [
        "import supervision as sv\n",
        "import numpy as np"
      ],
      "metadata": {
        "id": "lC9LzvDpi1tJ"
      },
      "execution_count": 9,
      "outputs": []
    },
    {
      "cell_type": "markdown",
      "source": [
        "## Analize trained model using supervision"
      ],
      "metadata": {
        "id": "C3lHDCJTwpb5"
      }
    },
    {
      "cell_type": "markdown",
      "source": [
        "Load test dataset with supervision"
      ],
      "metadata": {
        "id": "RyswmOF7iR8-"
      }
    },
    {
      "cell_type": "code",
      "source": [
        "ds = sv.DetectionDataset.from_yolo(\n",
        "    images_directory_path=f\"{dataset.location}/test/images\",\n",
        "    annotations_directory_path=f\"{dataset.location}/test/labels\",\n",
        "    data_yaml_path=f\"{dataset.location}/data.yaml\",\n",
        ")\n",
        "\n",
        "print('dataset classes:', ds.classes)"
      ],
      "metadata": {
        "id": "FPMp20_1iWzj",
        "outputId": "3c977cfb-7518-4d29-b405-bc2647db7756",
        "colab": {
          "base_uri": "https://localhost:8080/"
        }
      },
      "execution_count": 10,
      "outputs": [
        {
          "output_type": "stream",
          "name": "stdout",
          "text": [
            "dataset classes: ['cat', 'chicken', 'cow', 'dog', 'fox', 'goat', 'horse', 'person', 'racoon', 'skunk']\n"
          ]
        }
      ]
    },
    {
      "cell_type": "markdown",
      "source": [
        "Create callback function"
      ],
      "metadata": {
        "id": "4C8yNGHVMJjq"
      }
    },
    {
      "cell_type": "code",
      "source": [
        "model = YOLO('/content/runs/detect/train/weights/best.pt')\n",
        "def callback(image: np.ndarray) -> sv.Detections:\n",
        "    result = model(image)[0]\n",
        "    return sv.Detections.from_ultralytics(result)"
      ],
      "metadata": {
        "id": "d1f1EcmPMKyA"
      },
      "execution_count": 11,
      "outputs": []
    },
    {
      "cell_type": "markdown",
      "source": [
        "Calculate mAP per class"
      ],
      "metadata": {
        "id": "2DkA62j2kHxV"
      }
    },
    {
      "cell_type": "code",
      "source": [
        "mean_average_precision = sv.MeanAveragePrecision.benchmark(\n",
        "     dataset = ds,\n",
        "     callback = callback\n",
        ")\n",
        "file_path = f\"{HOME}/map_per_class.txt\"\n",
        "with open(file_path, \"w\") as file:\n",
        "  file.write(f\"mAP: {mean_average_precision.map50_95}\\n\")\n",
        "  print('mAP:', mean_average_precision.map50_95)\n",
        "  per_class_map = mean_average_precision.per_class_ap50_95.mean(axis=1)\n",
        "  for class_name, value in zip(ds.classes, per_class_map):\n",
        "      print(f\"{class_name}: {value:.2f}\")\n",
        "      file.write(f\"{class_name}: {value:.2f}\\n\")"
      ],
      "metadata": {
        "id": "H1vQDkM_kLIL",
        "outputId": "abcad953-f00d-454b-9716-c62d5700ecd7",
        "colab": {
          "base_uri": "https://localhost:8080/"
        }
      },
      "execution_count": 12,
      "outputs": [
        {
          "output_type": "stream",
          "name": "stderr",
          "text": [
            "\n",
            "WARNING ⚠️ NMS time limit 0.550s exceeded\n",
            "0: 416x640 1 goat, 3 skunks, 249.5ms\n",
            "Speed: 3.9ms preprocess, 249.5ms inference, 870.9ms postprocess per image at shape (1, 3, 416, 640)\n",
            "\n",
            "0: 544x640 2 chickens, 1 cow, 114.8ms\n",
            "Speed: 7.2ms preprocess, 114.8ms inference, 1.6ms postprocess per image at shape (1, 3, 544, 640)\n",
            "\n",
            "0: 640x640 1 cow, 1 goat, 17.2ms\n",
            "Speed: 5.2ms preprocess, 17.2ms inference, 1.8ms postprocess per image at shape (1, 3, 640, 640)\n",
            "\n",
            "0: 448x640 (no detections), 122.1ms\n",
            "Speed: 2.2ms preprocess, 122.1ms inference, 0.9ms postprocess per image at shape (1, 3, 448, 640)\n",
            "\n",
            "0: 480x640 1 cow, 148.7ms\n",
            "Speed: 3.6ms preprocess, 148.7ms inference, 8.4ms postprocess per image at shape (1, 3, 480, 640)\n",
            "\n",
            "0: 640x640 1 cow, 1 dog, 1 goat, 6 racoons, 32.3ms\n",
            "Speed: 5.0ms preprocess, 32.3ms inference, 2.3ms postprocess per image at shape (1, 3, 640, 640)\n",
            "\n",
            "0: 512x640 1 cow, 1 goat, 232.6ms\n",
            "Speed: 2.3ms preprocess, 232.6ms inference, 1.8ms postprocess per image at shape (1, 3, 512, 640)\n",
            "\n",
            "0: 448x640 3 chickens, 1 fox, 13.6ms\n",
            "Speed: 3.5ms preprocess, 13.6ms inference, 1.5ms postprocess per image at shape (1, 3, 448, 640)\n",
            "\n",
            "0: 448x640 1 cow, 14.2ms\n",
            "Speed: 2.0ms preprocess, 14.2ms inference, 1.7ms postprocess per image at shape (1, 3, 448, 640)\n",
            "\n",
            "0: 384x640 2 cows, 111.3ms\n",
            "Speed: 1.6ms preprocess, 111.3ms inference, 1.6ms postprocess per image at shape (1, 3, 384, 640)\n",
            "\n",
            "0: 384x640 1 dog, 12.8ms\n",
            "Speed: 3.2ms preprocess, 12.8ms inference, 1.7ms postprocess per image at shape (1, 3, 384, 640)\n",
            "\n",
            "0: 480x640 (no detections), 13.9ms\n",
            "Speed: 2.6ms preprocess, 13.9ms inference, 0.8ms postprocess per image at shape (1, 3, 480, 640)\n",
            "\n",
            "0: 512x640 5 persons, 14.6ms\n",
            "Speed: 2.2ms preprocess, 14.6ms inference, 1.5ms postprocess per image at shape (1, 3, 512, 640)\n",
            "\n",
            "0: 416x640 1 racoon, 13.3ms\n",
            "Speed: 1.7ms preprocess, 13.3ms inference, 1.4ms postprocess per image at shape (1, 3, 416, 640)\n",
            "\n",
            "0: 544x640 1 horse, 1 person, 17.0ms\n",
            "Speed: 2.2ms preprocess, 17.0ms inference, 1.4ms postprocess per image at shape (1, 3, 544, 640)\n",
            "\n",
            "0: 640x480 1 dog, 118.5ms\n",
            "Speed: 1.9ms preprocess, 118.5ms inference, 1.6ms postprocess per image at shape (1, 3, 640, 480)\n",
            "\n",
            "0: 480x640 1 dog, 1 goat, 16.0ms\n",
            "Speed: 3.8ms preprocess, 16.0ms inference, 2.0ms postprocess per image at shape (1, 3, 480, 640)\n",
            "\n",
            "0: 448x640 4 skunks, 13.5ms\n",
            "Speed: 1.9ms preprocess, 13.5ms inference, 1.5ms postprocess per image at shape (1, 3, 448, 640)\n",
            "\n",
            "0: 512x640 1 goat, 4 persons, 14.0ms\n",
            "Speed: 2.2ms preprocess, 14.0ms inference, 1.4ms postprocess per image at shape (1, 3, 512, 640)\n",
            "\n",
            "0: 544x640 1 cow, 3 horses, 16.5ms\n",
            "Speed: 2.3ms preprocess, 16.5ms inference, 1.5ms postprocess per image at shape (1, 3, 544, 640)\n",
            "\n",
            "0: 384x640 1 chicken, 1 cow, 12.6ms\n",
            "Speed: 1.7ms preprocess, 12.6ms inference, 1.4ms postprocess per image at shape (1, 3, 384, 640)\n",
            "\n",
            "0: 320x640 4 persons, 111.1ms\n",
            "Speed: 1.4ms preprocess, 111.1ms inference, 1.7ms postprocess per image at shape (1, 3, 320, 640)\n",
            "\n",
            "0: 640x640 1 chicken, 3 cows, 17.2ms\n",
            "Speed: 4.9ms preprocess, 17.2ms inference, 1.4ms postprocess per image at shape (1, 3, 640, 640)\n",
            "\n",
            "0: 384x640 1 cow, 1 goat, 1 racoon, 11.8ms\n",
            "Speed: 1.7ms preprocess, 11.8ms inference, 1.4ms postprocess per image at shape (1, 3, 384, 640)\n",
            "\n",
            "0: 512x640 1 cow, 1 goat, 14.0ms\n",
            "Speed: 2.2ms preprocess, 14.0ms inference, 1.4ms postprocess per image at shape (1, 3, 512, 640)\n",
            "\n",
            "0: 480x640 (no detections), 13.8ms\n",
            "Speed: 2.1ms preprocess, 13.8ms inference, 0.7ms postprocess per image at shape (1, 3, 480, 640)\n",
            "\n",
            "0: 512x640 5 cows, 14.0ms\n",
            "Speed: 2.1ms preprocess, 14.0ms inference, 1.4ms postprocess per image at shape (1, 3, 512, 640)\n",
            "\n",
            "0: 512x640 2 cows, 13.2ms\n",
            "Speed: 2.0ms preprocess, 13.2ms inference, 1.5ms postprocess per image at shape (1, 3, 512, 640)\n",
            "\n",
            "0: 352x640 7 cows, 5 goats, 116.8ms\n",
            "Speed: 1.6ms preprocess, 116.8ms inference, 1.6ms postprocess per image at shape (1, 3, 352, 640)\n",
            "\n",
            "0: 448x640 1 cow, 1 dog, 1 racoon, 12.6ms\n",
            "Speed: 3.8ms preprocess, 12.6ms inference, 1.5ms postprocess per image at shape (1, 3, 448, 640)\n",
            "\n",
            "0: 416x640 2 racoons, 12.4ms\n",
            "Speed: 2.0ms preprocess, 12.4ms inference, 1.5ms postprocess per image at shape (1, 3, 416, 640)\n",
            "\n",
            "0: 512x640 3 cows, 4 persons, 13.6ms\n",
            "Speed: 2.4ms preprocess, 13.6ms inference, 1.9ms postprocess per image at shape (1, 3, 512, 640)\n",
            "\n",
            "0: 640x608 1 cow, 1 horse, 115.3ms\n",
            "Speed: 2.8ms preprocess, 115.3ms inference, 1.6ms postprocess per image at shape (1, 3, 640, 608)\n",
            "\n",
            "0: 480x640 1 goat, 12.8ms\n",
            "Speed: 3.8ms preprocess, 12.8ms inference, 1.6ms postprocess per image at shape (1, 3, 480, 640)\n",
            "\n",
            "0: 640x608 1 dog, 15.8ms\n",
            "Speed: 3.0ms preprocess, 15.8ms inference, 1.6ms postprocess per image at shape (1, 3, 640, 608)\n",
            "\n",
            "0: 512x640 1 cow, 1 dog, 13.1ms\n",
            "Speed: 3.4ms preprocess, 13.1ms inference, 1.4ms postprocess per image at shape (1, 3, 512, 640)\n",
            "\n",
            "0: 448x640 1 cow, 1 dog, 2 goats, 1 horse, 13.1ms\n",
            "Speed: 1.8ms preprocess, 13.1ms inference, 1.5ms postprocess per image at shape (1, 3, 448, 640)\n",
            "\n",
            "0: 448x640 1 cat, 1 chicken, 1 racoon, 11.7ms\n",
            "Speed: 1.9ms preprocess, 11.7ms inference, 1.4ms postprocess per image at shape (1, 3, 448, 640)\n",
            "\n",
            "0: 448x640 1 cow, 1 dog, 12.5ms\n",
            "Speed: 1.8ms preprocess, 12.5ms inference, 1.4ms postprocess per image at shape (1, 3, 448, 640)\n",
            "\n",
            "0: 576x640 (no detections), 122.3ms\n",
            "Speed: 2.4ms preprocess, 122.3ms inference, 1.1ms postprocess per image at shape (1, 3, 576, 640)\n",
            "\n",
            "0: 480x640 1 cow, 1 horse, 13.1ms\n",
            "Speed: 4.3ms preprocess, 13.1ms inference, 2.0ms postprocess per image at shape (1, 3, 480, 640)\n",
            "\n",
            "0: 640x480 1 cow, 2 dogs, 12.8ms\n",
            "Speed: 2.4ms preprocess, 12.8ms inference, 1.6ms postprocess per image at shape (1, 3, 640, 480)\n",
            "\n",
            "0: 480x640 1 dog, 1 goat, 2 persons, 18.6ms\n",
            "Speed: 5.7ms preprocess, 18.6ms inference, 1.6ms postprocess per image at shape (1, 3, 480, 640)\n",
            "\n",
            "0: 512x640 1 chicken, 2 goats, 15.6ms\n",
            "Speed: 3.0ms preprocess, 15.6ms inference, 1.8ms postprocess per image at shape (1, 3, 512, 640)\n",
            "\n",
            "0: 352x640 1 fox, 18.2ms\n",
            "Speed: 1.5ms preprocess, 18.2ms inference, 1.9ms postprocess per image at shape (1, 3, 352, 640)\n",
            "\n",
            "0: 448x640 2 racoons, 19.8ms\n",
            "Speed: 2.4ms preprocess, 19.8ms inference, 1.9ms postprocess per image at shape (1, 3, 448, 640)\n",
            "\n",
            "0: 384x640 1 dog, 1 racoon, 15.4ms\n",
            "Speed: 1.9ms preprocess, 15.4ms inference, 2.0ms postprocess per image at shape (1, 3, 384, 640)\n",
            "\n",
            "0: 640x512 1 horse, 75.3ms\n",
            "Speed: 2.3ms preprocess, 75.3ms inference, 1.2ms postprocess per image at shape (1, 3, 640, 512)\n",
            "\n",
            "0: 448x640 1 goat, 12.2ms\n",
            "Speed: 3.5ms preprocess, 12.2ms inference, 1.2ms postprocess per image at shape (1, 3, 448, 640)\n",
            "\n",
            "0: 640x640 1 horse, 15.4ms\n",
            "Speed: 3.7ms preprocess, 15.4ms inference, 1.1ms postprocess per image at shape (1, 3, 640, 640)\n",
            "\n",
            "0: 448x640 1 cow, 1 dog, 12.1ms\n",
            "Speed: 1.9ms preprocess, 12.1ms inference, 1.1ms postprocess per image at shape (1, 3, 448, 640)\n",
            "\n",
            "0: 448x640 2 goats, 1 horse, 12.1ms\n",
            "Speed: 1.8ms preprocess, 12.1ms inference, 1.4ms postprocess per image at shape (1, 3, 448, 640)\n",
            "\n",
            "0: 480x640 1 cow, 1 goat, 12.9ms\n",
            "Speed: 2.0ms preprocess, 12.9ms inference, 1.5ms postprocess per image at shape (1, 3, 480, 640)\n",
            "\n",
            "0: 640x640 (no detections), 15.5ms\n",
            "Speed: 2.5ms preprocess, 15.5ms inference, 0.6ms postprocess per image at shape (1, 3, 640, 640)\n",
            "\n",
            "0: 512x640 1 goat, 2 persons, 12.9ms\n",
            "Speed: 2.2ms preprocess, 12.9ms inference, 1.2ms postprocess per image at shape (1, 3, 512, 640)\n",
            "\n",
            "0: 544x640 1 horse, 13.0ms\n",
            "Speed: 2.7ms preprocess, 13.0ms inference, 1.1ms postprocess per image at shape (1, 3, 544, 640)\n",
            "\n",
            "0: 448x640 2 cows, 11.9ms\n",
            "Speed: 1.8ms preprocess, 11.9ms inference, 1.1ms postprocess per image at shape (1, 3, 448, 640)\n",
            "\n",
            "0: 384x640 1 dog, 1 racoon, 10.1ms\n",
            "Speed: 1.6ms preprocess, 10.1ms inference, 1.1ms postprocess per image at shape (1, 3, 384, 640)\n",
            "\n",
            "0: 480x640 1 chicken, 2 cows, 2 goats, 11.2ms\n",
            "Speed: 1.9ms preprocess, 11.2ms inference, 2.2ms postprocess per image at shape (1, 3, 480, 640)\n",
            "\n",
            "0: 448x640 1 cow, 1 dog, 12.4ms\n",
            "Speed: 2.8ms preprocess, 12.4ms inference, 1.5ms postprocess per image at shape (1, 3, 448, 640)\n",
            "\n",
            "0: 544x640 (no detections), 13.4ms\n",
            "Speed: 2.2ms preprocess, 13.4ms inference, 0.7ms postprocess per image at shape (1, 3, 544, 640)\n",
            "\n",
            "0: 480x640 1 dog, 1 racoon, 11.3ms\n",
            "Speed: 2.0ms preprocess, 11.3ms inference, 1.3ms postprocess per image at shape (1, 3, 480, 640)\n",
            "\n",
            "0: 640x608 (no detections), 13.4ms\n",
            "Speed: 3.2ms preprocess, 13.4ms inference, 0.6ms postprocess per image at shape (1, 3, 640, 608)\n",
            "\n",
            "0: 576x640 1 cow, 1 dog, 1 goat, 13.3ms\n",
            "Speed: 3.0ms preprocess, 13.3ms inference, 1.3ms postprocess per image at shape (1, 3, 576, 640)\n",
            "\n",
            "0: 480x640 1 cow, 1 goat, 9.4ms\n",
            "Speed: 2.0ms preprocess, 9.4ms inference, 1.1ms postprocess per image at shape (1, 3, 480, 640)\n",
            "\n",
            "0: 544x640 1 cow, 1 dog, 11.1ms\n",
            "Speed: 2.7ms preprocess, 11.1ms inference, 1.9ms postprocess per image at shape (1, 3, 544, 640)\n",
            "\n",
            "0: 448x640 1 cow, 1 goat, 1 horse, 10.0ms\n",
            "Speed: 1.9ms preprocess, 10.0ms inference, 1.2ms postprocess per image at shape (1, 3, 448, 640)\n",
            "\n",
            "0: 448x640 2 skunks, 9.6ms\n",
            "Speed: 1.9ms preprocess, 9.6ms inference, 1.1ms postprocess per image at shape (1, 3, 448, 640)\n",
            "\n",
            "0: 640x640 (no detections), 11.5ms\n",
            "Speed: 2.4ms preprocess, 11.5ms inference, 0.6ms postprocess per image at shape (1, 3, 640, 640)\n",
            "\n",
            "0: 288x640 1 dog, 72.4ms\n",
            "Speed: 1.9ms preprocess, 72.4ms inference, 1.2ms postprocess per image at shape (1, 3, 288, 640)\n",
            "\n",
            "0: 512x640 4 cows, 1 goat, 9.3ms\n",
            "Speed: 4.2ms preprocess, 9.3ms inference, 1.2ms postprocess per image at shape (1, 3, 512, 640)\n",
            "\n",
            "0: 480x640 2 cows, 1 fox, 3 goats, 10.2ms\n",
            "Speed: 2.1ms preprocess, 10.2ms inference, 1.3ms postprocess per image at shape (1, 3, 480, 640)\n",
            "\n",
            "0: 416x640 2 persons, 11.0ms\n",
            "Speed: 1.8ms preprocess, 11.0ms inference, 1.4ms postprocess per image at shape (1, 3, 416, 640)\n",
            "\n",
            "0: 640x512 1 goat, 1 person, 10.7ms\n",
            "Speed: 3.2ms preprocess, 10.7ms inference, 1.2ms postprocess per image at shape (1, 3, 640, 512)\n",
            "\n",
            "0: 448x640 1 goat, 1 racoon, 10.1ms\n",
            "Speed: 1.9ms preprocess, 10.1ms inference, 1.3ms postprocess per image at shape (1, 3, 448, 640)\n",
            "\n",
            "0: 512x640 1 cow, 9.6ms\n",
            "Speed: 2.1ms preprocess, 9.6ms inference, 1.1ms postprocess per image at shape (1, 3, 512, 640)\n",
            "\n",
            "0: 544x640 1 cow, 1 horse, 12.6ms\n",
            "Speed: 2.2ms preprocess, 12.6ms inference, 1.2ms postprocess per image at shape (1, 3, 544, 640)\n",
            "\n",
            "0: 320x640 1 cow, 1 fox, 1 horse, 9.3ms\n",
            "Speed: 1.8ms preprocess, 9.3ms inference, 1.1ms postprocess per image at shape (1, 3, 320, 640)\n",
            "\n",
            "0: 640x640 (no detections), 11.2ms\n",
            "Speed: 3.0ms preprocess, 11.2ms inference, 0.6ms postprocess per image at shape (1, 3, 640, 640)\n",
            "\n",
            "0: 448x640 1 horse, 1 racoon, 9.5ms\n",
            "Speed: 2.2ms preprocess, 9.5ms inference, 1.3ms postprocess per image at shape (1, 3, 448, 640)\n",
            "\n",
            "0: 448x640 1 horse, 9.9ms\n",
            "Speed: 1.8ms preprocess, 9.9ms inference, 1.1ms postprocess per image at shape (1, 3, 448, 640)\n",
            "\n",
            "0: 448x640 5 cows, 9.4ms\n",
            "Speed: 1.8ms preprocess, 9.4ms inference, 1.1ms postprocess per image at shape (1, 3, 448, 640)\n",
            "\n",
            "0: 384x640 1 horse, 9.9ms\n",
            "Speed: 1.8ms preprocess, 9.9ms inference, 1.1ms postprocess per image at shape (1, 3, 384, 640)\n",
            "\n",
            "0: 480x640 1 horse, 9.7ms\n",
            "Speed: 1.9ms preprocess, 9.7ms inference, 1.2ms postprocess per image at shape (1, 3, 480, 640)\n",
            "\n",
            "0: 480x640 2 cows, 1 goat, 8.3ms\n",
            "Speed: 2.6ms preprocess, 8.3ms inference, 1.1ms postprocess per image at shape (1, 3, 480, 640)\n",
            "\n",
            "0: 448x640 (no detections), 10.4ms\n",
            "Speed: 1.9ms preprocess, 10.4ms inference, 0.6ms postprocess per image at shape (1, 3, 448, 640)\n",
            "\n",
            "0: 608x640 2 chickens, 2 cows, 81.9ms\n",
            "Speed: 2.3ms preprocess, 81.9ms inference, 1.4ms postprocess per image at shape (1, 3, 608, 640)\n",
            "\n",
            "0: 448x640 4 cows, 1 horse, 2 persons, 16.2ms\n",
            "Speed: 6.8ms preprocess, 16.2ms inference, 1.9ms postprocess per image at shape (1, 3, 448, 640)\n",
            "\n",
            "0: 448x640 2 cows, 1 dog, 15.5ms\n",
            "Speed: 2.2ms preprocess, 15.5ms inference, 1.9ms postprocess per image at shape (1, 3, 448, 640)\n",
            "\n",
            "0: 320x640 1 chicken, 1 cow, 34.5ms\n",
            "Speed: 1.6ms preprocess, 34.5ms inference, 2.0ms postprocess per image at shape (1, 3, 320, 640)\n",
            "\n",
            "0: 448x640 1 horse, 1 racoon, 23.7ms\n",
            "Speed: 2.1ms preprocess, 23.7ms inference, 2.0ms postprocess per image at shape (1, 3, 448, 640)\n",
            "\n",
            "0: 416x640 1 fox, 1 horse, 15.6ms\n",
            "Speed: 2.0ms preprocess, 15.6ms inference, 1.8ms postprocess per image at shape (1, 3, 416, 640)\n",
            "\n",
            "0: 640x608 1 cow, 1 goat, 15.0ms\n",
            "Speed: 3.2ms preprocess, 15.0ms inference, 1.9ms postprocess per image at shape (1, 3, 640, 608)\n",
            "\n",
            "0: 416x640 2 persons, 12.9ms\n",
            "Speed: 2.1ms preprocess, 12.9ms inference, 1.9ms postprocess per image at shape (1, 3, 416, 640)\n",
            "\n",
            "0: 320x640 3 cows, 1 dog, 5 goats, 1 person, 17.2ms\n",
            "Speed: 2.4ms preprocess, 17.2ms inference, 1.9ms postprocess per image at shape (1, 3, 320, 640)\n",
            "\n",
            "0: 384x640 1 racoon, 15.7ms\n",
            "Speed: 2.2ms preprocess, 15.7ms inference, 1.7ms postprocess per image at shape (1, 3, 384, 640)\n",
            "\n",
            "0: 640x512 1 cow, 17.3ms\n",
            "Speed: 2.6ms preprocess, 17.3ms inference, 1.8ms postprocess per image at shape (1, 3, 640, 512)\n",
            "\n",
            "0: 576x640 2 horses, 15.1ms\n",
            "Speed: 3.7ms preprocess, 15.1ms inference, 1.7ms postprocess per image at shape (1, 3, 576, 640)\n",
            "\n",
            "0: 608x640 (no detections), 14.9ms\n",
            "Speed: 4.0ms preprocess, 14.9ms inference, 0.8ms postprocess per image at shape (1, 3, 608, 640)\n",
            "\n",
            "0: 640x608 (no detections), 14.3ms\n",
            "Speed: 3.6ms preprocess, 14.3ms inference, 1.0ms postprocess per image at shape (1, 3, 640, 608)\n"
          ]
        },
        {
          "output_type": "stream",
          "name": "stdout",
          "text": [
            "mAP: 0.28843083665634267\n",
            "cat: 0.00\n",
            "chicken: 0.31\n",
            "cow: 0.34\n",
            "dog: 0.35\n",
            "fox: 0.46\n",
            "goat: 0.14\n",
            "horse: 0.47\n",
            "person: 0.44\n",
            "racoon: 0.18\n",
            "skunk: 0.18\n"
          ]
        }
      ]
    },
    {
      "cell_type": "markdown",
      "source": [
        "Calculate confusion matrix"
      ],
      "metadata": {
        "id": "Fgy-EMzTz02G"
      }
    },
    {
      "cell_type": "code",
      "source": [
        "confusion_matrix = sv.ConfusionMatrix.benchmark(\n",
        "     dataset = ds,\n",
        "     callback = callback\n",
        ")\n",
        "confusion_matrix_plot = confusion_matrix.plot()\n",
        "confusion_matrix_plot.savefig(f\"{HOME}/confusion_matrix.png\")"
      ],
      "metadata": {
        "colab": {
          "base_uri": "https://localhost:8080/",
          "height": 1000
        },
        "id": "NHY-fexSz65U",
        "outputId": "d8acae3b-3254-494b-d9be-909f45e9513c"
      },
      "execution_count": 15,
      "outputs": [
        {
          "output_type": "stream",
          "name": "stderr",
          "text": [
            "\n",
            "0: 416x640 1 goat, 3 skunks, 35.2ms\n",
            "Speed: 2.9ms preprocess, 35.2ms inference, 2.2ms postprocess per image at shape (1, 3, 416, 640)\n",
            "\n",
            "0: 544x640 2 chickens, 1 cow, 55.4ms\n",
            "Speed: 2.3ms preprocess, 55.4ms inference, 1.7ms postprocess per image at shape (1, 3, 544, 640)\n",
            "\n",
            "0: 640x640 1 cow, 1 goat, 39.4ms\n",
            "Speed: 2.6ms preprocess, 39.4ms inference, 1.6ms postprocess per image at shape (1, 3, 640, 640)\n",
            "\n",
            "0: 448x640 (no detections), 40.8ms\n",
            "Speed: 2.0ms preprocess, 40.8ms inference, 0.9ms postprocess per image at shape (1, 3, 448, 640)\n",
            "\n",
            "0: 480x640 1 cow, 38.6ms\n",
            "Speed: 2.1ms preprocess, 38.6ms inference, 1.7ms postprocess per image at shape (1, 3, 480, 640)\n",
            "\n",
            "0: 640x640 1 cow, 1 dog, 1 goat, 6 racoons, 17.4ms\n",
            "Speed: 2.6ms preprocess, 17.4ms inference, 1.7ms postprocess per image at shape (1, 3, 640, 640)\n",
            "\n",
            "0: 512x640 1 cow, 1 goat, 14.3ms\n",
            "Speed: 2.1ms preprocess, 14.3ms inference, 1.6ms postprocess per image at shape (1, 3, 512, 640)\n",
            "\n",
            "0: 448x640 3 chickens, 1 fox, 20.6ms\n",
            "Speed: 1.9ms preprocess, 20.6ms inference, 2.0ms postprocess per image at shape (1, 3, 448, 640)\n",
            "\n",
            "0: 448x640 1 cow, 12.8ms\n",
            "Speed: 2.9ms preprocess, 12.8ms inference, 1.5ms postprocess per image at shape (1, 3, 448, 640)\n",
            "\n",
            "0: 384x640 2 cows, 11.9ms\n",
            "Speed: 1.9ms preprocess, 11.9ms inference, 1.4ms postprocess per image at shape (1, 3, 384, 640)\n",
            "\n",
            "0: 384x640 1 dog, 10.9ms\n",
            "Speed: 1.7ms preprocess, 10.9ms inference, 1.2ms postprocess per image at shape (1, 3, 384, 640)\n",
            "\n",
            "0: 480x640 (no detections), 13.7ms\n",
            "Speed: 2.0ms preprocess, 13.7ms inference, 0.6ms postprocess per image at shape (1, 3, 480, 640)\n",
            "\n",
            "0: 512x640 5 persons, 13.9ms\n",
            "Speed: 3.1ms preprocess, 13.9ms inference, 1.3ms postprocess per image at shape (1, 3, 512, 640)\n",
            "\n",
            "0: 416x640 1 racoon, 11.3ms\n",
            "Speed: 2.9ms preprocess, 11.3ms inference, 1.1ms postprocess per image at shape (1, 3, 416, 640)\n",
            "\n",
            "0: 544x640 1 horse, 1 person, 14.4ms\n",
            "Speed: 2.1ms preprocess, 14.4ms inference, 1.1ms postprocess per image at shape (1, 3, 544, 640)\n",
            "\n",
            "0: 640x480 1 dog, 11.7ms\n",
            "Speed: 1.8ms preprocess, 11.7ms inference, 1.2ms postprocess per image at shape (1, 3, 640, 480)\n",
            "\n",
            "0: 480x640 1 dog, 1 goat, 11.8ms\n",
            "Speed: 1.9ms preprocess, 11.8ms inference, 1.6ms postprocess per image at shape (1, 3, 480, 640)\n",
            "\n",
            "0: 448x640 4 skunks, 11.4ms\n",
            "Speed: 2.4ms preprocess, 11.4ms inference, 1.1ms postprocess per image at shape (1, 3, 448, 640)\n",
            "\n",
            "0: 512x640 1 goat, 4 persons, 11.7ms\n",
            "Speed: 2.3ms preprocess, 11.7ms inference, 1.1ms postprocess per image at shape (1, 3, 512, 640)\n",
            "\n",
            "0: 544x640 1 cow, 3 horses, 14.0ms\n",
            "Speed: 2.6ms preprocess, 14.0ms inference, 1.1ms postprocess per image at shape (1, 3, 544, 640)\n",
            "\n",
            "0: 384x640 1 chicken, 1 cow, 10.3ms\n",
            "Speed: 1.9ms preprocess, 10.3ms inference, 1.3ms postprocess per image at shape (1, 3, 384, 640)\n",
            "\n",
            "0: 320x640 4 persons, 10.7ms\n",
            "Speed: 1.5ms preprocess, 10.7ms inference, 1.1ms postprocess per image at shape (1, 3, 320, 640)\n",
            "\n",
            "0: 640x640 1 chicken, 3 cows, 13.0ms\n",
            "Speed: 3.0ms preprocess, 13.0ms inference, 1.3ms postprocess per image at shape (1, 3, 640, 640)\n",
            "\n",
            "0: 384x640 1 cow, 1 goat, 1 racoon, 9.3ms\n",
            "Speed: 1.8ms preprocess, 9.3ms inference, 1.2ms postprocess per image at shape (1, 3, 384, 640)\n",
            "\n",
            "0: 512x640 1 cow, 1 goat, 9.9ms\n",
            "Speed: 2.4ms preprocess, 9.9ms inference, 1.1ms postprocess per image at shape (1, 3, 512, 640)\n",
            "\n",
            "0: 480x640 (no detections), 9.8ms\n",
            "Speed: 2.5ms preprocess, 9.8ms inference, 0.6ms postprocess per image at shape (1, 3, 480, 640)\n",
            "\n",
            "0: 512x640 5 cows, 10.0ms\n",
            "Speed: 2.6ms preprocess, 10.0ms inference, 1.1ms postprocess per image at shape (1, 3, 512, 640)\n",
            "\n",
            "0: 512x640 2 cows, 9.3ms\n",
            "Speed: 2.7ms preprocess, 9.3ms inference, 1.1ms postprocess per image at shape (1, 3, 512, 640)\n",
            "\n",
            "0: 352x640 7 cows, 5 goats, 9.5ms\n",
            "Speed: 2.8ms preprocess, 9.5ms inference, 1.1ms postprocess per image at shape (1, 3, 352, 640)\n",
            "\n",
            "0: 448x640 1 cow, 1 dog, 1 racoon, 9.5ms\n",
            "Speed: 2.7ms preprocess, 9.5ms inference, 1.3ms postprocess per image at shape (1, 3, 448, 640)\n",
            "\n",
            "0: 416x640 2 racoons, 9.5ms\n",
            "Speed: 2.9ms preprocess, 9.5ms inference, 1.4ms postprocess per image at shape (1, 3, 416, 640)\n",
            "\n",
            "0: 512x640 3 cows, 4 persons, 10.1ms\n",
            "Speed: 2.7ms preprocess, 10.1ms inference, 1.1ms postprocess per image at shape (1, 3, 512, 640)\n",
            "\n",
            "0: 640x608 1 cow, 1 horse, 11.1ms\n",
            "Speed: 2.6ms preprocess, 11.1ms inference, 1.1ms postprocess per image at shape (1, 3, 640, 608)\n",
            "\n",
            "0: 480x640 1 goat, 9.6ms\n",
            "Speed: 2.9ms preprocess, 9.6ms inference, 1.1ms postprocess per image at shape (1, 3, 480, 640)\n",
            "\n",
            "0: 640x608 1 dog, 15.2ms\n",
            "Speed: 2.4ms preprocess, 15.2ms inference, 1.6ms postprocess per image at shape (1, 3, 640, 608)\n",
            "\n",
            "0: 512x640 1 cow, 1 dog, 10.5ms\n",
            "Speed: 2.0ms preprocess, 10.5ms inference, 1.1ms postprocess per image at shape (1, 3, 512, 640)\n",
            "\n",
            "0: 448x640 1 cow, 1 dog, 2 goats, 1 horse, 11.6ms\n",
            "Speed: 2.1ms preprocess, 11.6ms inference, 1.1ms postprocess per image at shape (1, 3, 448, 640)\n",
            "\n",
            "0: 448x640 1 cat, 1 chicken, 1 racoon, 14.2ms\n",
            "Speed: 2.2ms preprocess, 14.2ms inference, 1.2ms postprocess per image at shape (1, 3, 448, 640)\n",
            "\n",
            "0: 448x640 1 cow, 1 dog, 9.0ms\n",
            "Speed: 1.8ms preprocess, 9.0ms inference, 1.1ms postprocess per image at shape (1, 3, 448, 640)\n",
            "\n",
            "0: 576x640 (no detections), 10.5ms\n",
            "Speed: 2.6ms preprocess, 10.5ms inference, 0.6ms postprocess per image at shape (1, 3, 576, 640)\n",
            "\n",
            "0: 480x640 1 cow, 1 horse, 8.9ms\n",
            "Speed: 2.0ms preprocess, 8.9ms inference, 1.1ms postprocess per image at shape (1, 3, 480, 640)\n",
            "\n",
            "0: 640x480 1 cow, 2 dogs, 10.6ms\n",
            "Speed: 1.9ms preprocess, 10.6ms inference, 1.1ms postprocess per image at shape (1, 3, 640, 480)\n",
            "\n",
            "0: 480x640 1 dog, 1 goat, 2 persons, 10.3ms\n",
            "Speed: 1.9ms preprocess, 10.3ms inference, 1.1ms postprocess per image at shape (1, 3, 480, 640)\n",
            "\n",
            "0: 512x640 1 chicken, 2 goats, 8.9ms\n",
            "Speed: 2.5ms preprocess, 8.9ms inference, 1.1ms postprocess per image at shape (1, 3, 512, 640)\n",
            "\n",
            "0: 352x640 1 fox, 9.2ms\n",
            "Speed: 1.5ms preprocess, 9.2ms inference, 1.2ms postprocess per image at shape (1, 3, 352, 640)\n",
            "\n",
            "0: 448x640 2 racoons, 18.1ms\n",
            "Speed: 1.9ms preprocess, 18.1ms inference, 1.3ms postprocess per image at shape (1, 3, 448, 640)\n",
            "\n",
            "0: 384x640 1 dog, 1 racoon, 14.6ms\n",
            "Speed: 1.7ms preprocess, 14.6ms inference, 1.1ms postprocess per image at shape (1, 3, 384, 640)\n",
            "\n",
            "0: 640x512 1 horse, 9.1ms\n",
            "Speed: 2.4ms preprocess, 9.1ms inference, 1.1ms postprocess per image at shape (1, 3, 640, 512)\n",
            "\n",
            "0: 448x640 1 goat, 10.2ms\n",
            "Speed: 1.9ms preprocess, 10.2ms inference, 1.2ms postprocess per image at shape (1, 3, 448, 640)\n",
            "\n",
            "0: 640x640 1 horse, 10.8ms\n",
            "Speed: 2.3ms preprocess, 10.8ms inference, 1.1ms postprocess per image at shape (1, 3, 640, 640)\n",
            "\n",
            "0: 448x640 1 cow, 1 dog, 11.3ms\n",
            "Speed: 2.3ms preprocess, 11.3ms inference, 1.1ms postprocess per image at shape (1, 3, 448, 640)\n",
            "\n",
            "0: 448x640 2 goats, 1 horse, 9.9ms\n",
            "Speed: 1.9ms preprocess, 9.9ms inference, 1.1ms postprocess per image at shape (1, 3, 448, 640)\n",
            "\n",
            "0: 480x640 1 cow, 1 goat, 11.2ms\n",
            "Speed: 2.0ms preprocess, 11.2ms inference, 1.1ms postprocess per image at shape (1, 3, 480, 640)\n",
            "\n",
            "0: 640x640 (no detections), 10.5ms\n",
            "Speed: 2.4ms preprocess, 10.5ms inference, 0.6ms postprocess per image at shape (1, 3, 640, 640)\n",
            "\n",
            "0: 512x640 1 goat, 2 persons, 10.3ms\n",
            "Speed: 2.5ms preprocess, 10.3ms inference, 1.1ms postprocess per image at shape (1, 3, 512, 640)\n",
            "\n",
            "0: 544x640 1 horse, 10.2ms\n",
            "Speed: 2.6ms preprocess, 10.2ms inference, 1.3ms postprocess per image at shape (1, 3, 544, 640)\n",
            "\n",
            "0: 448x640 2 cows, 10.7ms\n",
            "Speed: 1.8ms preprocess, 10.7ms inference, 1.1ms postprocess per image at shape (1, 3, 448, 640)\n",
            "\n",
            "0: 384x640 1 dog, 1 racoon, 9.2ms\n",
            "Speed: 2.3ms preprocess, 9.2ms inference, 1.1ms postprocess per image at shape (1, 3, 384, 640)\n",
            "\n",
            "0: 480x640 1 chicken, 2 cows, 2 goats, 9.0ms\n",
            "Speed: 2.6ms preprocess, 9.0ms inference, 1.1ms postprocess per image at shape (1, 3, 480, 640)\n",
            "\n",
            "0: 448x640 1 cow, 1 dog, 9.9ms\n",
            "Speed: 1.9ms preprocess, 9.9ms inference, 1.1ms postprocess per image at shape (1, 3, 448, 640)\n",
            "\n",
            "0: 544x640 (no detections), 10.9ms\n",
            "Speed: 3.3ms preprocess, 10.9ms inference, 0.6ms postprocess per image at shape (1, 3, 544, 640)\n",
            "\n",
            "0: 480x640 1 dog, 1 racoon, 9.4ms\n",
            "Speed: 2.3ms preprocess, 9.4ms inference, 1.1ms postprocess per image at shape (1, 3, 480, 640)\n",
            "\n",
            "0: 640x608 (no detections), 11.1ms\n",
            "Speed: 2.4ms preprocess, 11.1ms inference, 0.6ms postprocess per image at shape (1, 3, 640, 608)\n",
            "\n",
            "0: 576x640 1 cow, 1 dog, 1 goat, 10.7ms\n",
            "Speed: 2.3ms preprocess, 10.7ms inference, 1.1ms postprocess per image at shape (1, 3, 576, 640)\n",
            "\n",
            "0: 480x640 1 cow, 1 goat, 8.5ms\n",
            "Speed: 2.5ms preprocess, 8.5ms inference, 1.1ms postprocess per image at shape (1, 3, 480, 640)\n",
            "\n",
            "0: 544x640 1 cow, 1 dog, 9.7ms\n",
            "Speed: 2.5ms preprocess, 9.7ms inference, 1.1ms postprocess per image at shape (1, 3, 544, 640)\n",
            "\n",
            "0: 448x640 1 cow, 1 goat, 1 horse, 8.3ms\n",
            "Speed: 2.2ms preprocess, 8.3ms inference, 1.1ms postprocess per image at shape (1, 3, 448, 640)\n",
            "\n",
            "0: 448x640 2 skunks, 9.1ms\n",
            "Speed: 2.2ms preprocess, 9.1ms inference, 1.1ms postprocess per image at shape (1, 3, 448, 640)\n",
            "\n",
            "0: 640x640 (no detections), 11.1ms\n",
            "Speed: 3.2ms preprocess, 11.1ms inference, 0.6ms postprocess per image at shape (1, 3, 640, 640)\n",
            "\n",
            "0: 288x640 1 dog, 9.7ms\n",
            "Speed: 1.4ms preprocess, 9.7ms inference, 1.2ms postprocess per image at shape (1, 3, 288, 640)\n",
            "\n",
            "0: 512x640 4 cows, 1 goat, 9.3ms\n",
            "Speed: 2.3ms preprocess, 9.3ms inference, 1.1ms postprocess per image at shape (1, 3, 512, 640)\n",
            "\n",
            "0: 480x640 2 cows, 1 fox, 3 goats, 9.4ms\n",
            "Speed: 2.1ms preprocess, 9.4ms inference, 1.1ms postprocess per image at shape (1, 3, 480, 640)\n",
            "\n",
            "0: 416x640 2 persons, 9.4ms\n",
            "Speed: 2.1ms preprocess, 9.4ms inference, 1.1ms postprocess per image at shape (1, 3, 416, 640)\n",
            "\n",
            "0: 640x512 1 goat, 1 person, 9.5ms\n",
            "Speed: 2.5ms preprocess, 9.5ms inference, 1.1ms postprocess per image at shape (1, 3, 640, 512)\n",
            "\n",
            "0: 448x640 1 goat, 1 racoon, 9.1ms\n",
            "Speed: 2.2ms preprocess, 9.1ms inference, 1.3ms postprocess per image at shape (1, 3, 448, 640)\n",
            "\n",
            "0: 512x640 1 cow, 9.6ms\n",
            "Speed: 2.1ms preprocess, 9.6ms inference, 1.1ms postprocess per image at shape (1, 3, 512, 640)\n",
            "\n",
            "0: 544x640 1 cow, 1 horse, 12.0ms\n",
            "Speed: 2.1ms preprocess, 12.0ms inference, 1.1ms postprocess per image at shape (1, 3, 544, 640)\n",
            "\n",
            "0: 320x640 1 cow, 1 fox, 1 horse, 9.7ms\n",
            "Speed: 2.0ms preprocess, 9.7ms inference, 1.1ms postprocess per image at shape (1, 3, 320, 640)\n",
            "\n",
            "0: 640x640 (no detections), 10.0ms\n",
            "Speed: 2.5ms preprocess, 10.0ms inference, 0.6ms postprocess per image at shape (1, 3, 640, 640)\n",
            "\n",
            "0: 448x640 1 horse, 1 racoon, 11.9ms\n",
            "Speed: 1.9ms preprocess, 11.9ms inference, 1.1ms postprocess per image at shape (1, 3, 448, 640)\n",
            "\n",
            "0: 448x640 1 horse, 12.1ms\n",
            "Speed: 1.8ms preprocess, 12.1ms inference, 1.1ms postprocess per image at shape (1, 3, 448, 640)\n",
            "\n",
            "0: 448x640 5 cows, 8.6ms\n",
            "Speed: 4.1ms preprocess, 8.6ms inference, 1.1ms postprocess per image at shape (1, 3, 448, 640)\n",
            "\n",
            "0: 384x640 1 horse, 10.2ms\n",
            "Speed: 2.0ms preprocess, 10.2ms inference, 1.1ms postprocess per image at shape (1, 3, 384, 640)\n",
            "\n",
            "0: 480x640 1 horse, 11.1ms\n",
            "Speed: 2.1ms preprocess, 11.1ms inference, 1.3ms postprocess per image at shape (1, 3, 480, 640)\n",
            "\n",
            "0: 480x640 2 cows, 1 goat, 14.3ms\n",
            "Speed: 2.2ms preprocess, 14.3ms inference, 1.4ms postprocess per image at shape (1, 3, 480, 640)\n",
            "\n",
            "0: 448x640 (no detections), 18.0ms\n",
            "Speed: 1.9ms preprocess, 18.0ms inference, 0.7ms postprocess per image at shape (1, 3, 448, 640)\n",
            "\n",
            "0: 608x640 2 chickens, 2 cows, 11.1ms\n",
            "Speed: 2.5ms preprocess, 11.1ms inference, 1.2ms postprocess per image at shape (1, 3, 608, 640)\n",
            "\n",
            "0: 448x640 4 cows, 1 horse, 2 persons, 10.4ms\n",
            "Speed: 2.0ms preprocess, 10.4ms inference, 1.1ms postprocess per image at shape (1, 3, 448, 640)\n",
            "\n",
            "0: 448x640 2 cows, 1 dog, 9.4ms\n",
            "Speed: 2.0ms preprocess, 9.4ms inference, 1.1ms postprocess per image at shape (1, 3, 448, 640)\n",
            "\n",
            "0: 320x640 1 chicken, 1 cow, 10.5ms\n",
            "Speed: 3.6ms preprocess, 10.5ms inference, 1.1ms postprocess per image at shape (1, 3, 320, 640)\n",
            "\n",
            "0: 448x640 1 horse, 1 racoon, 9.5ms\n",
            "Speed: 1.9ms preprocess, 9.5ms inference, 1.2ms postprocess per image at shape (1, 3, 448, 640)\n",
            "\n",
            "0: 416x640 1 fox, 1 horse, 10.0ms\n",
            "Speed: 2.3ms preprocess, 10.0ms inference, 1.1ms postprocess per image at shape (1, 3, 416, 640)\n",
            "\n",
            "0: 640x608 1 cow, 1 goat, 9.6ms\n",
            "Speed: 2.8ms preprocess, 9.6ms inference, 1.1ms postprocess per image at shape (1, 3, 640, 608)\n",
            "\n",
            "0: 416x640 2 persons, 9.4ms\n",
            "Speed: 1.9ms preprocess, 9.4ms inference, 1.1ms postprocess per image at shape (1, 3, 416, 640)\n",
            "\n",
            "0: 320x640 3 cows, 1 dog, 5 goats, 1 person, 10.7ms\n",
            "Speed: 1.5ms preprocess, 10.7ms inference, 1.1ms postprocess per image at shape (1, 3, 320, 640)\n",
            "\n",
            "0: 384x640 1 racoon, 20.9ms\n",
            "Speed: 1.7ms preprocess, 20.9ms inference, 1.1ms postprocess per image at shape (1, 3, 384, 640)\n",
            "\n",
            "0: 640x512 1 cow, 11.2ms\n",
            "Speed: 2.0ms preprocess, 11.2ms inference, 1.1ms postprocess per image at shape (1, 3, 640, 512)\n",
            "\n",
            "0: 576x640 2 horses, 9.5ms\n",
            "Speed: 2.2ms preprocess, 9.5ms inference, 1.1ms postprocess per image at shape (1, 3, 576, 640)\n",
            "\n",
            "0: 608x640 (no detections), 10.6ms\n",
            "Speed: 2.3ms preprocess, 10.6ms inference, 0.6ms postprocess per image at shape (1, 3, 608, 640)\n",
            "\n",
            "0: 640x608 (no detections), 11.7ms\n",
            "Speed: 2.2ms preprocess, 11.7ms inference, 0.6ms postprocess per image at shape (1, 3, 640, 608)\n"
          ]
        },
        {
          "output_type": "display_data",
          "data": {
            "text/plain": [
              "<Figure size 1200x1000 with 2 Axes>"
            ],
            "image/png": "[encoded data removed]"
          },
          "metadata": {}
        }
      ]
    }
  ],
  "metadata": {
    "accelerator": "GPU",
    "colab": {
      "provenance": [],
      "gpuType": "T4"
    },
    "kernelspec": {
      "display_name": "Python 3",
      "name": "python3"
    },
    "language_info": {
      "name": "python"
    }
  },
  "nbformat": 4,
  "nbformat_minor": 0
}